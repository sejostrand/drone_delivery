{
 "cells": [
  {
   "cell_type": "markdown",
   "metadata": {},
   "source": [
    "# Drone Delivery"
   ]
  },
  {
   "cell_type": "markdown",
   "metadata": {},
   "source": [
    "### COMMANDS"
   ]
  },
  {
   "cell_type": "markdown",
   "metadata": {},
   "source": [
    "#### Load()"
   ]
  },
  {
   "cell_type": "markdown",
   "metadata": {},
   "source": [
    "Moves the specified number of items of the specified product type from a warehouse to the\n",
    "drone’s inventory. If the drone isn’t at the warehouse it will fly there using the shortest path before\n",
    "loading the product items. The requested number of items of the specified product type must be\n",
    "available in the warehouse. The total weight of the items in the drone’s inventory after the load\n",
    "cannot be bigger than the drone’s maximum load."
   ]
  },
  {
   "cell_type": "markdown",
   "metadata": {},
   "source": [
    "#### Deliver()"
   ]
  },
  {
   "cell_type": "markdown",
   "metadata": {},
   "source": [
    "Delivers the specified number of items of the specified product type to a customer. If the\n",
    "drone isn’t at the destination it will fly there using the shortest path before delivering the product\n",
    "items. The drone must have the requested number of items of the specified product type in its\n",
    "inventory."
   ]
  },
  {
   "cell_type": "markdown",
   "metadata": {},
   "source": [
    "#### Unload()"
   ]
  },
  {
   "cell_type": "markdown",
   "metadata": {},
   "source": [
    "Moves the specified number of items of the specified product type from drone’s inventory to\n",
    "a warehouse. If the drone isn’t at the warehouse it will fly there using the shortest path before\n",
    "unloading the product items. The drone must have the requested number of items of the specified\n",
    "product type in its inventory."
   ]
  },
  {
   "cell_type": "markdown",
   "metadata": {},
   "source": [
    "#### Wait()"
   ]
  },
  {
   "cell_type": "markdown",
   "metadata": {},
   "source": [
    "Waits the specified number of turns in the drone's current location."
   ]
  },
  {
   "cell_type": "markdown",
   "metadata": {},
   "source": [
    "### SIMULATION"
   ]
  },
  {
   "cell_type": "markdown",
   "metadata": {},
   "source": [
    "The simulation proceeds in T turns, from 0 to T − 1. A drone executes the commands issued to it in the\n",
    "order in which they are specified, one by one. The first command issued to the drone starts in turn 0."
   ]
  },
  {
   "cell_type": "markdown",
   "metadata": {},
   "source": [
    "### NOTES"
   ]
  },
  {
   "cell_type": "markdown",
   "metadata": {},
   "source": [
    "load/unload take 1 turn"
   ]
  },
  {
   "cell_type": "markdown",
   "metadata": {},
   "source": [
    "unloading is always down before loading in the same turn"
   ]
  },
  {
   "cell_type": "code",
   "execution_count": 93,
   "metadata": {},
   "outputs": [],
   "source": [
    "#import libraries\n",
    "import pandas as pd\n",
    "import numpy as np"
   ]
  },
  {
   "cell_type": "code",
   "execution_count": 118,
   "metadata": {},
   "outputs": [],
   "source": [
    "#read input data\n",
    "with open('input.txt') as f:\n",
    "    data = f.readlines()\n",
    "data = [x.strip() for x in data] "
   ]
  },
  {
   "cell_type": "code",
   "execution_count": 166,
   "metadata": {},
   "outputs": [],
   "source": [
    "#parameters\n",
    "rows = int(data[0].split()[0])\n",
    "columns = int(data[0].split()[1])\n",
    "total_drones = int(data[0].split()[2])\n",
    "max_turns = int(data[0].split()[3])\n",
    "max_weight = int(data[0].split()[4])\n",
    "total_products = int(data[1])\n",
    "total_warehouses = int(data[3])\n",
    "total_orders = int(data[24])"
   ]
  },
  {
   "cell_type": "code",
   "execution_count": 167,
   "metadata": {},
   "outputs": [],
   "source": [
    "#product weight reference {'product_id':'wegiht'}\n",
    "product_weight = {}\n",
    "for k in range(0, total_products):\n",
    "    product_weight[k] = data[2].split()[k]"
   ]
  },
  {
   "cell_type": "code",
   "execution_count": 168,
   "metadata": {},
   "outputs": [],
   "source": [
    "#warehouse coordenates {'warehouse':'(x,y)'}\n",
    "warehouse_coord = {}\n",
    "for n in range(0, total_warehouses):\n",
    "    warehouse_coord[n] = (int(data[4+2*n].split()[0]),int(data[4+2*n].split()[1]))"
   ]
  },
  {
   "cell_type": "code",
   "execution_count": 169,
   "metadata": {},
   "outputs": [],
   "source": [
    "#warehouse stock list {'warehouse':{'product':'stock'}}\n",
    "warehouse_stock = {}\n",
    "for p in range(0, total_warehouses):\n",
    "    warehouse_stock[p] = {}\n",
    "    for j in range(0, total_products):\n",
    "        warehouse_stock[p][j] = int(data[5+2*p].split()[j])"
   ]
  },
  {
   "cell_type": "code",
   "execution_count": 188,
   "metadata": {},
   "outputs": [],
   "source": [
    "#order details {'#order':{'coord':'(x,y)', 'total_items':'n', 'products':[1, 2, 3, ..., n]}} \n",
    "#eg. order[1]['coord'] returns the coordenate for the order\n",
    "        #order[1]['products'] returns list of products for the order\n",
    "order = {}\n",
    "for n in range (1, total_orders+1):\n",
    "    order[n] = {}\n",
    "    order[n]['coord'] = (int(data[22+3*n].split()[0]),int(data[22+3*n].split()[1]))\n",
    "    order[n]['total_items'] = int(data[23+3*n])\n",
    "    order[n]['products'] = [int(s) for s in data[24+3*n].split()]"
   ]
  },
  {
   "cell_type": "code",
   "execution_count": 189,
   "metadata": {},
   "outputs": [
    {
     "name": "stdout",
     "output_type": "stream",
     "text": [
      "Parameters\n",
      "\n",
      "Area:             (400, 600)\n",
      "Total drones:     30\n",
      "Max turns:        112993\n",
      "Maximum weight:   200u\n",
      "Total products:   400\n",
      "Total warehouses: 10\n",
      "Total orders:     1250\n"
     ]
    }
   ],
   "source": [
    "print('Parameters\\n')\n",
    "print(f'Area:             ({rows}, {columns})')\n",
    "print(f'Total drones:     {total_drones}')\n",
    "print(f'Max turns:        {max_turns}')\n",
    "print(f'Maximum weight:   {max_weight}u')\n",
    "print(f'Total products:   {total_products}')\n",
    "print(f'Total warehouses: {total_warehouses}')\n",
    "print(f'Total orders:     {total_orders}')"
   ]
  },
  {
   "cell_type": "markdown",
   "metadata": {},
   "source": [
    "# Notes"
   ]
  },
  {
   "cell_type": "markdown",
   "metadata": {},
   "source": [
    "- I need to work with stacks, using pop(), peek(), append()\n",
    "- Each order should be a stack of items ?"
   ]
  },
  {
   "cell_type": "code",
   "execution_count": null,
   "metadata": {},
   "outputs": [],
   "source": []
  }
 ],
 "metadata": {
  "kernelspec": {
   "display_name": "Python 3",
   "language": "python",
   "name": "python3"
  },
  "language_info": {
   "codemirror_mode": {
    "name": "ipython",
    "version": 3
   },
   "file_extension": ".py",
   "mimetype": "text/x-python",
   "name": "python",
   "nbconvert_exporter": "python",
   "pygments_lexer": "ipython3",
   "version": "3.8.5"
  }
 },
 "nbformat": 4,
 "nbformat_minor": 4
}
